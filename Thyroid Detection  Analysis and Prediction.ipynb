{
 "cells": [
  {
   "cell_type": "markdown",
   "id": "62118e2d",
   "metadata": {},
   "source": [
    "# <font color = 'maroon'><u><center>Thyroid Detection Analysis</center></u></font>"
   ]
  },
  {
   "cell_type": "markdown",
   "id": "6962b752",
   "metadata": {},
   "source": [
    "### Data Info"
   ]
  },
  {
   "cell_type": "markdown",
   "id": "7f5a03de",
   "metadata": {},
   "source": [
    "<p>Thyroid is a gland in our body responsible for producing thyroid hormone, which is\n",
    "essential for regulating breathing, body weight, heart rate, and muscle strength. Any\n",
    "irregularity in the production of this hormone can be fatal. There are four disorders\n",
    "associated with the thyroid gland:</p>\n",
    "\n",
    "- Hyperthyroid\n",
    "- Hypothyroid\n",
    "- Euthyroid-sick\n",
    "- Euthyroid <br>\n",
    "\n",
    "<p>However, the human body reacts differently to the above irregularities resulting in\n",
    "diversified symptoms, and the disease goes undiagnosed in many cases. The \n",
    "challenge here is to train a machine learning model to predict whether a patient has a\n",
    "thyroid-related disorder or not.</p>\n"
   ]
  },
  {
   "cell_type": "markdown",
   "id": "53156375",
   "metadata": {},
   "source": [
    "- The database has 3772 rows and 19 columns/features with 2829 training (data) instances and 943 test instances on splitting the data"
   ]
  },
  {
   "cell_type": "markdown",
   "id": "a8ebe179",
   "metadata": {},
   "source": [
    "### Feature Analysis"
   ]
  },
  {
   "cell_type": "markdown",
   "id": "dec232ef",
   "metadata": {},
   "source": [
    "- **age** - age of the patient (int)\n",
    "- **sex** - sex patient identifies (str)\n",
    "- **on_thyroxine** - whether patient is on thyroxine (bool)\n",
    "- **on antithyroid meds** - whether patient is on antithyroid meds (bool)\n",
    "- **sick** - whether patient is sick (bool)\n",
    "- **pregnant** - whether patient is pregnant (bool)\n",
    "- **thyroid_surgery** - whether patient has undergone thyroid surgery (bool)\n",
    "- **I131_treatment** - whether patient is undergoing I131 treatment (bool)\n",
    "- **goitre** - whether patient has goitre (bool)\n",
    "- **tumor** - whether patient has tumor (bool)\n",
    "- **hypopituitary** - whether patient * hyperpituitary gland (float)\n",
    "- **psych** - whether patient * psych (bool)\n",
    "- **TSH** - TSH level in blood from lab work (float)\n",
    "- **T3** - T3 level in blood from lab work (float)\n",
    "- **TT4** - TT4 level in blood from lab work (float)\n",
    "- **T4U** - T4U level in blood from lab work (float)\n",
    "- **FTI** - FTI level in blood from lab work (float)\n",
    "- **Thyroid** - Whether patient has thyroid or not (bool)"
   ]
  },
  {
   "cell_type": "markdown",
   "id": "620a3bdf",
   "metadata": {},
   "source": [
    "### Importing the Libraries"
   ]
  },
  {
   "cell_type": "code",
   "execution_count": 22,
   "id": "83a57695",
   "metadata": {},
   "outputs": [],
   "source": [
    "import numpy as np\n",
    "import pandas as pd\n",
    "from sklearn.model_selection import train_test_split\n",
    "from sklearn.preprocessing import LabelEncoder\n",
    "from sklearn.preprocessing import StandardScaler\n",
    "from sklearn.ensemble import RandomForestClassifier\n",
    "from sklearn.metrics import classification_report\n",
    "from sklearn.model_selection import GridSearchCV \n",
    "from sklearn.metrics import confusion_matrix\n",
    "from sklearn.metrics import mean_squared_error"
   ]
  },
  {
   "cell_type": "markdown",
   "id": "872f6416",
   "metadata": {},
   "source": [
    "### Getting the dataset"
   ]
  },
  {
   "cell_type": "code",
   "execution_count": 14,
   "id": "b272c809",
   "metadata": {},
   "outputs": [
    {
     "data": {
      "text/html": [
       "<div>\n",
       "<style scoped>\n",
       "    .dataframe tbody tr th:only-of-type {\n",
       "        vertical-align: middle;\n",
       "    }\n",
       "\n",
       "    .dataframe tbody tr th {\n",
       "        vertical-align: top;\n",
       "    }\n",
       "\n",
       "    .dataframe thead th {\n",
       "        text-align: right;\n",
       "    }\n",
       "</style>\n",
       "<table border=\"1\" class=\"dataframe\">\n",
       "  <thead>\n",
       "    <tr style=\"text-align: right;\">\n",
       "      <th></th>\n",
       "      <th>age</th>\n",
       "      <th>sex</th>\n",
       "      <th>on thyroxine</th>\n",
       "      <th>on antithyroid medication</th>\n",
       "      <th>sick</th>\n",
       "      <th>pregnant</th>\n",
       "      <th>thyroid surgery</th>\n",
       "      <th>I131 treatment</th>\n",
       "      <th>lithium</th>\n",
       "      <th>goitre</th>\n",
       "      <th>tumor</th>\n",
       "      <th>hypopituitary</th>\n",
       "      <th>psych</th>\n",
       "      <th>TSH</th>\n",
       "      <th>T3</th>\n",
       "      <th>TT4</th>\n",
       "      <th>T4U</th>\n",
       "      <th>FTI</th>\n",
       "      <th>Thyroid</th>\n",
       "    </tr>\n",
       "  </thead>\n",
       "  <tbody>\n",
       "    <tr>\n",
       "      <th>0</th>\n",
       "      <td>41</td>\n",
       "      <td>F</td>\n",
       "      <td>f</td>\n",
       "      <td>f</td>\n",
       "      <td>f</td>\n",
       "      <td>f</td>\n",
       "      <td>f</td>\n",
       "      <td>f</td>\n",
       "      <td>f</td>\n",
       "      <td>f</td>\n",
       "      <td>f</td>\n",
       "      <td>f</td>\n",
       "      <td>f</td>\n",
       "      <td>1.3</td>\n",
       "      <td>2.5</td>\n",
       "      <td>125</td>\n",
       "      <td>1.14</td>\n",
       "      <td>109</td>\n",
       "      <td>P</td>\n",
       "    </tr>\n",
       "    <tr>\n",
       "      <th>1</th>\n",
       "      <td>23</td>\n",
       "      <td>F</td>\n",
       "      <td>f</td>\n",
       "      <td>f</td>\n",
       "      <td>f</td>\n",
       "      <td>f</td>\n",
       "      <td>f</td>\n",
       "      <td>f</td>\n",
       "      <td>f</td>\n",
       "      <td>f</td>\n",
       "      <td>f</td>\n",
       "      <td>f</td>\n",
       "      <td>f</td>\n",
       "      <td>4.1</td>\n",
       "      <td>2</td>\n",
       "      <td>102</td>\n",
       "      <td>?</td>\n",
       "      <td>?</td>\n",
       "      <td>P</td>\n",
       "    </tr>\n",
       "    <tr>\n",
       "      <th>2</th>\n",
       "      <td>46</td>\n",
       "      <td>M</td>\n",
       "      <td>f</td>\n",
       "      <td>f</td>\n",
       "      <td>f</td>\n",
       "      <td>f</td>\n",
       "      <td>f</td>\n",
       "      <td>f</td>\n",
       "      <td>f</td>\n",
       "      <td>f</td>\n",
       "      <td>f</td>\n",
       "      <td>f</td>\n",
       "      <td>f</td>\n",
       "      <td>0.98</td>\n",
       "      <td>?</td>\n",
       "      <td>109</td>\n",
       "      <td>0.91</td>\n",
       "      <td>120</td>\n",
       "      <td>P</td>\n",
       "    </tr>\n",
       "    <tr>\n",
       "      <th>3</th>\n",
       "      <td>70</td>\n",
       "      <td>F</td>\n",
       "      <td>t</td>\n",
       "      <td>f</td>\n",
       "      <td>f</td>\n",
       "      <td>f</td>\n",
       "      <td>f</td>\n",
       "      <td>f</td>\n",
       "      <td>f</td>\n",
       "      <td>f</td>\n",
       "      <td>f</td>\n",
       "      <td>f</td>\n",
       "      <td>f</td>\n",
       "      <td>0.16</td>\n",
       "      <td>1.9</td>\n",
       "      <td>175</td>\n",
       "      <td>?</td>\n",
       "      <td>?</td>\n",
       "      <td>P</td>\n",
       "    </tr>\n",
       "    <tr>\n",
       "      <th>4</th>\n",
       "      <td>70</td>\n",
       "      <td>F</td>\n",
       "      <td>f</td>\n",
       "      <td>f</td>\n",
       "      <td>f</td>\n",
       "      <td>f</td>\n",
       "      <td>f</td>\n",
       "      <td>f</td>\n",
       "      <td>f</td>\n",
       "      <td>f</td>\n",
       "      <td>f</td>\n",
       "      <td>f</td>\n",
       "      <td>f</td>\n",
       "      <td>0.72</td>\n",
       "      <td>1.2</td>\n",
       "      <td>61</td>\n",
       "      <td>0.87</td>\n",
       "      <td>70</td>\n",
       "      <td>P</td>\n",
       "    </tr>\n",
       "  </tbody>\n",
       "</table>\n",
       "</div>"
      ],
      "text/plain": [
       "  age sex on thyroxine on antithyroid medication sick pregnant  \\\n",
       "0  41   F            f                         f    f        f   \n",
       "1  23   F            f                         f    f        f   \n",
       "2  46   M            f                         f    f        f   \n",
       "3  70   F            t                         f    f        f   \n",
       "4  70   F            f                         f    f        f   \n",
       "\n",
       "  thyroid surgery I131 treatment lithium goitre tumor hypopituitary psych  \\\n",
       "0               f              f       f      f     f             f     f   \n",
       "1               f              f       f      f     f             f     f   \n",
       "2               f              f       f      f     f             f     f   \n",
       "3               f              f       f      f     f             f     f   \n",
       "4               f              f       f      f     f             f     f   \n",
       "\n",
       "    TSH   T3  TT4   T4U  FTI Thyroid  \n",
       "0   1.3  2.5  125  1.14  109       P  \n",
       "1   4.1    2  102     ?    ?       P  \n",
       "2  0.98    ?  109  0.91  120       P  \n",
       "3  0.16  1.9  175     ?    ?       P  \n",
       "4  0.72  1.2   61  0.87   70       P  "
      ]
     },
     "execution_count": 14,
     "metadata": {},
     "output_type": "execute_result"
    }
   ],
   "source": [
    "dataset = pd.read_csv('thyroid.csv') \n",
    "dataset.head()"
   ]
  },
  {
   "cell_type": "markdown",
   "id": "0cdf4485",
   "metadata": {},
   "source": [
    "### Data Preproccessing"
   ]
  },
  {
   "cell_type": "code",
   "execution_count": 15,
   "id": "87556df1",
   "metadata": {},
   "outputs": [],
   "source": [
    "dataset = dataset.fillna(0) #replacing the na values with 0"
   ]
  },
  {
   "cell_type": "code",
   "execution_count": 16,
   "id": "b47b52af",
   "metadata": {},
   "outputs": [
    {
     "name": "stdout",
     "output_type": "stream",
     "text": [
      "Index(['age', 'sex', 'on thyroxine', 'on antithyroid medication', 'sick',\n",
      "       'pregnant', 'thyroid surgery', 'I131 treatment', 'lithium', 'goitre',\n",
      "       'tumor', 'hypopituitary', 'psych', 'TSH', 'T3', 'TT4', 'T4U', 'FTI',\n",
      "       'Thyroid'],\n",
      "      dtype='object')\n"
     ]
    }
   ],
   "source": [
    "objList = dataset.select_dtypes(include = \"object\").columns # Taking all the column names\n",
    "print (objList)"
   ]
  },
  {
   "cell_type": "code",
   "execution_count": 17,
   "id": "3f939699",
   "metadata": {},
   "outputs": [],
   "source": [
    "le = LabelEncoder() #Initializing the Label Encoder"
   ]
  },
  {
   "cell_type": "code",
   "execution_count": 18,
   "id": "8b743bf7",
   "metadata": {},
   "outputs": [
    {
     "name": "stdout",
     "output_type": "stream",
     "text": [
      "<class 'pandas.core.frame.DataFrame'>\n",
      "RangeIndex: 3772 entries, 0 to 3771\n",
      "Data columns (total 19 columns):\n",
      " #   Column                     Non-Null Count  Dtype\n",
      "---  ------                     --------------  -----\n",
      " 0   age                        3772 non-null   int32\n",
      " 1   sex                        3772 non-null   int32\n",
      " 2   on thyroxine               3772 non-null   int32\n",
      " 3   on antithyroid medication  3772 non-null   int32\n",
      " 4   sick                       3772 non-null   int32\n",
      " 5   pregnant                   3772 non-null   int32\n",
      " 6   thyroid surgery            3772 non-null   int32\n",
      " 7   I131 treatment             3772 non-null   int32\n",
      " 8   lithium                    3772 non-null   int32\n",
      " 9   goitre                     3772 non-null   int32\n",
      " 10  tumor                      3772 non-null   int32\n",
      " 11  hypopituitary              3772 non-null   int32\n",
      " 12  psych                      3772 non-null   int32\n",
      " 13  TSH                        3772 non-null   int32\n",
      " 14  T3                         3772 non-null   int32\n",
      " 15  TT4                        3772 non-null   int32\n",
      " 16  T4U                        3772 non-null   int32\n",
      " 17  FTI                        3772 non-null   int32\n",
      " 18  Thyroid                    3772 non-null   int32\n",
      "dtypes: int32(19)\n",
      "memory usage: 280.1 KB\n",
      "None\n"
     ]
    }
   ],
   "source": [
    "for feat in objList:  # Applying the label encoder onto our columns which we defined earlier\n",
    "    dataset[feat] = le.fit_transform(dataset[feat].astype(str))\n",
    "print (dataset.info())"
   ]
  },
  {
   "cell_type": "code",
   "execution_count": 19,
   "id": "7f62c71b",
   "metadata": {},
   "outputs": [],
   "source": [
    "x = dataset.iloc[:,:-1].values # Input data ie, independent variable\n",
    "y = dataset.iloc[:,-1].values  # Output data ie, dependent variable"
   ]
  },
  {
   "cell_type": "markdown",
   "id": "4397b461",
   "metadata": {},
   "source": [
    "### Feature Scaling "
   ]
  },
  {
   "cell_type": "code",
   "execution_count": 20,
   "id": "64a6a7a8",
   "metadata": {},
   "outputs": [],
   "source": [
    "sc_x = StandardScaler() # Initializing and applying standard scalar to the input data ie, x\n",
    "x = sc_x.fit_transform(x)"
   ]
  },
  {
   "cell_type": "markdown",
   "id": "5a8aede1",
   "metadata": {},
   "source": [
    "### Train-Test Split"
   ]
  },
  {
   "cell_type": "code",
   "execution_count": 23,
   "id": "1f334471",
   "metadata": {},
   "outputs": [],
   "source": [
    "x_train,x_test,y_train,y_test = train_test_split(x,y,test_size=0.25,random_state=0) # Splitting the dataset into training and test"
   ]
  },
  {
   "cell_type": "markdown",
   "id": "5df84758",
   "metadata": {},
   "source": [
    "### Model Initialization"
   ]
  },
  {
   "cell_type": "markdown",
   "id": "09d5cef4",
   "metadata": {},
   "source": [
    "- Random Forest Classifier is used because firstly it is a classification problem and among all models random forest has given    the best performance with high accuracy and low error rate"
   ]
  },
  {
   "cell_type": "code",
   "execution_count": 24,
   "id": "4e55727b",
   "metadata": {},
   "outputs": [
    {
     "data": {
      "text/plain": [
       "RandomForestClassifier(n_estimators=1000)"
      ]
     },
     "execution_count": 24,
     "metadata": {},
     "output_type": "execute_result"
    }
   ],
   "source": [
    "rfc = RandomForestClassifier(n_estimators=1000) #Initializing the random forest classifier as it is a classification problem and also taking no. of trees as 1000\n",
    "rfc.fit(x_train,y_train) #fitting the model into the training sets"
   ]
  },
  {
   "cell_type": "markdown",
   "id": "405162aa",
   "metadata": {},
   "source": [
    "### Parameter Tunning using Grid Search"
   ]
  },
  {
   "cell_type": "markdown",
   "id": "297d3f46",
   "metadata": {},
   "source": [
    "- Grid search is done to get the optimal best paramters and accuracy score"
   ]
  },
  {
   "cell_type": "code",
   "execution_count": 25,
   "id": "ff415075",
   "metadata": {},
   "outputs": [],
   "source": [
    "parameter = [{'n_estimators': [500, 1000, 2000, 3000]}] \n",
    "grid_search = GridSearchCV(estimator=rfc, \n",
    "                           param_grid = parameter,\n",
    "                           scoring='accuracy',# calculation model based on accuracy\n",
    "                           cv = 10,\n",
    "                           n_jobs=-1) # n_jobs can be set for large datasets,cv=10 becoz it will calculate the best out of 10 folds\n",
    "grid_search = grid_search.fit(x_train,y_train)\n",
    "best_accuracy = grid_search.best_score_ #best accuracy\n",
    "best_parameters = grid_search.best_params_ # This will give the best parameter ie, optimal number of trees"
   ]
  },
  {
   "cell_type": "code",
   "execution_count": 27,
   "id": "f67b8282",
   "metadata": {},
   "outputs": [
    {
     "name": "stdout",
     "output_type": "stream",
     "text": [
      "0.9589993233591458\n"
     ]
    }
   ],
   "source": [
    "print(best_accuracy)"
   ]
  },
  {
   "cell_type": "code",
   "execution_count": 26,
   "id": "4d89aaa3",
   "metadata": {},
   "outputs": [
    {
     "name": "stdout",
     "output_type": "stream",
     "text": [
      "{'n_estimators': 1000}\n"
     ]
    }
   ],
   "source": [
    "print(best_parameters)"
   ]
  },
  {
   "cell_type": "markdown",
   "id": "eca60599",
   "metadata": {},
   "source": [
    "### Predicting the results"
   ]
  },
  {
   "cell_type": "code",
   "execution_count": 28,
   "id": "0392e563",
   "metadata": {},
   "outputs": [],
   "source": [
    "y_pred = rfc.predict(x_test) #Predicting the results with the help of x test"
   ]
  },
  {
   "cell_type": "markdown",
   "id": "803280e8",
   "metadata": {},
   "source": [
    "### Getting the Accuracy of the model"
   ]
  },
  {
   "cell_type": "code",
   "execution_count": 29,
   "id": "3400b81d",
   "metadata": {},
   "outputs": [],
   "source": [
    "cm = confusion_matrix(y_test, y_pred) #Confusion matrix gives the number of correct predictions as well as incorrect predictions\n",
    "                                      # Accuracy will be Total number of correct predictions/Total Predictions"
   ]
  },
  {
   "cell_type": "code",
   "execution_count": 30,
   "id": "ecb6de73",
   "metadata": {},
   "outputs": [
    {
     "name": "stdout",
     "output_type": "stream",
     "text": [
      "[[ 50  34]\n",
      " [  3 856]]\n"
     ]
    }
   ],
   "source": [
    "print(cm)"
   ]
  },
  {
   "cell_type": "markdown",
   "id": "8d542cd9",
   "metadata": {},
   "source": [
    "### Report"
   ]
  },
  {
   "cell_type": "code",
   "execution_count": null,
   "id": "34f58112",
   "metadata": {},
   "outputs": [],
   "source": [
    "report=classification_report(y_test.reshape(-1,),y_pred) # Printing the report which tells the precision,recall,f1-score,support\n",
    "print(report)"
   ]
  },
  {
   "cell_type": "markdown",
   "id": "db6ad696",
   "metadata": {},
   "source": [
    "### Exporting the Model"
   ]
  },
  {
   "cell_type": "code",
   "execution_count": null,
   "id": "ef059cf7",
   "metadata": {},
   "outputs": [],
   "source": [
    "import pickle            # This is to export the model for future prediction on new data\n",
    "with open('model.pickle','wb') as f:\n",
    "    pickle.dump(rfc,f)"
   ]
  }
 ],
 "metadata": {
  "kernelspec": {
   "display_name": "Python 3 (ipykernel)",
   "language": "python",
   "name": "python3"
  },
  "language_info": {
   "codemirror_mode": {
    "name": "ipython",
    "version": 3
   },
   "file_extension": ".py",
   "mimetype": "text/x-python",
   "name": "python",
   "nbconvert_exporter": "python",
   "pygments_lexer": "ipython3",
   "version": "3.9.12"
  }
 },
 "nbformat": 4,
 "nbformat_minor": 5
}
