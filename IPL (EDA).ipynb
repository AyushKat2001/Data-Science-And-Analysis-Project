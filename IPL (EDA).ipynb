{
 "cells": [
  {
   "cell_type": "markdown",
   "id": "e41fd93f",
   "metadata": {},
   "source": [
    "# <center><font color='purple' size=6><u>IPL Exploratory Data Analysis</u></font></center>"
   ]
  },
  {
   "cell_type": "markdown",
   "id": "048f984f",
   "metadata": {},
   "source": [
    "### What is an IPL?"
   ]
  },
  {
   "cell_type": "markdown",
   "id": "ca13595b",
   "metadata": {},
   "source": [
    "IPL stands for the Indian Premier League. It is a professional Twenty20 cricket league in India that takes place annually. The league was founded by the Board of Control for Cricket in India (BCCI) in 2007 and is considered one of the world's premier cricket tournaments. The IPL features teams representing various cities in India, and it has become a highly popular and lucrative event, attracting top cricket players from around the world."
   ]
  },
  {
   "cell_type": "markdown",
   "id": "3d38ceec",
   "metadata": {},
   "source": [
    "### Task :-"
   ]
  },
  {
   "cell_type": "markdown",
   "id": "4395d22b",
   "metadata": {},
   "source": [
    "Perform Exploratory Data Analysis(EDA) on Indian Premier League(IPL) Data."
   ]
  },
  {
   "cell_type": "markdown",
   "id": "a90e775a",
   "metadata": {},
   "source": [
    "<b>Dataset Link</b>:- https://www.kaggle.com/datasets/patrickb1912/ipl-complete-dataset-20082020"
   ]
  },
  {
   "cell_type": "markdown",
   "id": "45c1fe90",
   "metadata": {},
   "source": [
    "There are two datasets that are being used in this analysis:\n",
    "- <b>ipl_data</b>:- It gives the matches history like who won toss,who won the match,Player of the Match etc.\n",
    "- <b>ipl_ball_data</b> :- It gives the data of every ball played in the history of ipl,with this very useful information can be extracted. "
   ]
  },
  {
   "cell_type": "markdown",
   "id": "fa9b80ed",
   "metadata": {},
   "source": [
    "### Importing Required Libraries And Dataset"
   ]
  },
  {
   "cell_type": "code",
   "execution_count": 103,
   "id": "8840dc7a",
   "metadata": {},
   "outputs": [],
   "source": [
    "import pandas as pd\n",
    "import numpy as np\n",
    "import matplotlib.pyplot as plt\n",
    "import seaborn as sns\n",
    "import statistics as stat\n",
    "%matplotlib inline"
   ]
  },
  {
   "cell_type": "code",
   "execution_count": 2,
   "id": "0fb7ab37",
   "metadata": {},
   "outputs": [],
   "source": [
    "import warnings\n",
    "warnings.filterwarnings('ignore') "
   ]
  },
  {
   "cell_type": "code",
   "execution_count": 3,
   "id": "298d2ea2",
   "metadata": {},
   "outputs": [],
   "source": [
    "ipl_data = pd.read_csv('IPL_Matches_2008_2022.csv')\n",
    "ipl_ball_data = pd.read_csv('IPL_Ball_by_Ball_2008_2022.csv')"
   ]
  },
  {
   "cell_type": "code",
   "execution_count": 4,
   "id": "c8510553",
   "metadata": {},
   "outputs": [
    {
     "data": {
      "text/plain": [
       "(225954, 17)"
      ]
     },
     "execution_count": 4,
     "metadata": {},
     "output_type": "execute_result"
    }
   ],
   "source": [
    "ipl_ball_data.shape"
   ]
  },
  {
   "cell_type": "code",
   "execution_count": 5,
   "id": "dedf92c5",
   "metadata": {},
   "outputs": [
    {
     "data": {
      "text/plain": [
       "(950, 20)"
      ]
     },
     "execution_count": 5,
     "metadata": {},
     "output_type": "execute_result"
    }
   ],
   "source": [
    "ipl_data.shape"
   ]
  },
  {
   "cell_type": "markdown",
   "id": "cb58d98f",
   "metadata": {},
   "source": [
    "- We have around 225954 rows with 17 columns in the <b>ipl_ball_data</b> Dataset\n",
    "- And 950 rows with 20 columns in the <b>ipl_data</b> Dataset"
   ]
  },
  {
   "cell_type": "code",
   "execution_count": 6,
   "id": "3a6fd463",
   "metadata": {},
   "outputs": [
    {
     "data": {
      "text/html": [
       "<div>\n",
       "<style scoped>\n",
       "    .dataframe tbody tr th:only-of-type {\n",
       "        vertical-align: middle;\n",
       "    }\n",
       "\n",
       "    .dataframe tbody tr th {\n",
       "        vertical-align: top;\n",
       "    }\n",
       "\n",
       "    .dataframe thead th {\n",
       "        text-align: right;\n",
       "    }\n",
       "</style>\n",
       "<table border=\"1\" class=\"dataframe\">\n",
       "  <thead>\n",
       "    <tr style=\"text-align: right;\">\n",
       "      <th></th>\n",
       "      <th>ID</th>\n",
       "      <th>innings</th>\n",
       "      <th>overs</th>\n",
       "      <th>ballnumber</th>\n",
       "      <th>batter</th>\n",
       "      <th>bowler</th>\n",
       "      <th>non-striker</th>\n",
       "      <th>extra_type</th>\n",
       "      <th>batsman_run</th>\n",
       "      <th>extras_run</th>\n",
       "      <th>total_run</th>\n",
       "      <th>non_boundary</th>\n",
       "      <th>isWicketDelivery</th>\n",
       "      <th>player_out</th>\n",
       "      <th>kind</th>\n",
       "      <th>fielders_involved</th>\n",
       "      <th>BattingTeam</th>\n",
       "    </tr>\n",
       "  </thead>\n",
       "  <tbody>\n",
       "    <tr>\n",
       "      <th>0</th>\n",
       "      <td>1312200</td>\n",
       "      <td>1</td>\n",
       "      <td>0</td>\n",
       "      <td>1</td>\n",
       "      <td>YBK Jaiswal</td>\n",
       "      <td>Mohammed Shami</td>\n",
       "      <td>JC Buttler</td>\n",
       "      <td>NaN</td>\n",
       "      <td>0</td>\n",
       "      <td>0</td>\n",
       "      <td>0</td>\n",
       "      <td>0</td>\n",
       "      <td>0</td>\n",
       "      <td>NaN</td>\n",
       "      <td>NaN</td>\n",
       "      <td>NaN</td>\n",
       "      <td>Rajasthan Royals</td>\n",
       "    </tr>\n",
       "    <tr>\n",
       "      <th>1</th>\n",
       "      <td>1312200</td>\n",
       "      <td>1</td>\n",
       "      <td>0</td>\n",
       "      <td>2</td>\n",
       "      <td>YBK Jaiswal</td>\n",
       "      <td>Mohammed Shami</td>\n",
       "      <td>JC Buttler</td>\n",
       "      <td>legbyes</td>\n",
       "      <td>0</td>\n",
       "      <td>1</td>\n",
       "      <td>1</td>\n",
       "      <td>0</td>\n",
       "      <td>0</td>\n",
       "      <td>NaN</td>\n",
       "      <td>NaN</td>\n",
       "      <td>NaN</td>\n",
       "      <td>Rajasthan Royals</td>\n",
       "    </tr>\n",
       "    <tr>\n",
       "      <th>2</th>\n",
       "      <td>1312200</td>\n",
       "      <td>1</td>\n",
       "      <td>0</td>\n",
       "      <td>3</td>\n",
       "      <td>JC Buttler</td>\n",
       "      <td>Mohammed Shami</td>\n",
       "      <td>YBK Jaiswal</td>\n",
       "      <td>NaN</td>\n",
       "      <td>1</td>\n",
       "      <td>0</td>\n",
       "      <td>1</td>\n",
       "      <td>0</td>\n",
       "      <td>0</td>\n",
       "      <td>NaN</td>\n",
       "      <td>NaN</td>\n",
       "      <td>NaN</td>\n",
       "      <td>Rajasthan Royals</td>\n",
       "    </tr>\n",
       "    <tr>\n",
       "      <th>3</th>\n",
       "      <td>1312200</td>\n",
       "      <td>1</td>\n",
       "      <td>0</td>\n",
       "      <td>4</td>\n",
       "      <td>YBK Jaiswal</td>\n",
       "      <td>Mohammed Shami</td>\n",
       "      <td>JC Buttler</td>\n",
       "      <td>NaN</td>\n",
       "      <td>0</td>\n",
       "      <td>0</td>\n",
       "      <td>0</td>\n",
       "      <td>0</td>\n",
       "      <td>0</td>\n",
       "      <td>NaN</td>\n",
       "      <td>NaN</td>\n",
       "      <td>NaN</td>\n",
       "      <td>Rajasthan Royals</td>\n",
       "    </tr>\n",
       "    <tr>\n",
       "      <th>4</th>\n",
       "      <td>1312200</td>\n",
       "      <td>1</td>\n",
       "      <td>0</td>\n",
       "      <td>5</td>\n",
       "      <td>YBK Jaiswal</td>\n",
       "      <td>Mohammed Shami</td>\n",
       "      <td>JC Buttler</td>\n",
       "      <td>NaN</td>\n",
       "      <td>0</td>\n",
       "      <td>0</td>\n",
       "      <td>0</td>\n",
       "      <td>0</td>\n",
       "      <td>0</td>\n",
       "      <td>NaN</td>\n",
       "      <td>NaN</td>\n",
       "      <td>NaN</td>\n",
       "      <td>Rajasthan Royals</td>\n",
       "    </tr>\n",
       "  </tbody>\n",
       "</table>\n",
       "</div>"
      ],
      "text/plain": [
       "        ID  innings  overs  ballnumber       batter          bowler  \\\n",
       "0  1312200        1      0           1  YBK Jaiswal  Mohammed Shami   \n",
       "1  1312200        1      0           2  YBK Jaiswal  Mohammed Shami   \n",
       "2  1312200        1      0           3   JC Buttler  Mohammed Shami   \n",
       "3  1312200        1      0           4  YBK Jaiswal  Mohammed Shami   \n",
       "4  1312200        1      0           5  YBK Jaiswal  Mohammed Shami   \n",
       "\n",
       "   non-striker extra_type  batsman_run  extras_run  total_run  non_boundary  \\\n",
       "0   JC Buttler        NaN            0           0          0             0   \n",
       "1   JC Buttler    legbyes            0           1          1             0   \n",
       "2  YBK Jaiswal        NaN            1           0          1             0   \n",
       "3   JC Buttler        NaN            0           0          0             0   \n",
       "4   JC Buttler        NaN            0           0          0             0   \n",
       "\n",
       "   isWicketDelivery player_out kind fielders_involved       BattingTeam  \n",
       "0                 0        NaN  NaN               NaN  Rajasthan Royals  \n",
       "1                 0        NaN  NaN               NaN  Rajasthan Royals  \n",
       "2                 0        NaN  NaN               NaN  Rajasthan Royals  \n",
       "3                 0        NaN  NaN               NaN  Rajasthan Royals  \n",
       "4                 0        NaN  NaN               NaN  Rajasthan Royals  "
      ]
     },
     "execution_count": 6,
     "metadata": {},
     "output_type": "execute_result"
    }
   ],
   "source": [
    "ipl_ball_data.head(5)"
   ]
  },
  {
   "cell_type": "code",
   "execution_count": 7,
   "id": "143ea239",
   "metadata": {},
   "outputs": [
    {
     "data": {
      "text/html": [
       "<div>\n",
       "<style scoped>\n",
       "    .dataframe tbody tr th:only-of-type {\n",
       "        vertical-align: middle;\n",
       "    }\n",
       "\n",
       "    .dataframe tbody tr th {\n",
       "        vertical-align: top;\n",
       "    }\n",
       "\n",
       "    .dataframe thead th {\n",
       "        text-align: right;\n",
       "    }\n",
       "</style>\n",
       "<table border=\"1\" class=\"dataframe\">\n",
       "  <thead>\n",
       "    <tr style=\"text-align: right;\">\n",
       "      <th></th>\n",
       "      <th>ID</th>\n",
       "      <th>City</th>\n",
       "      <th>Date</th>\n",
       "      <th>Season</th>\n",
       "      <th>MatchNumber</th>\n",
       "      <th>Team1</th>\n",
       "      <th>Team2</th>\n",
       "      <th>Venue</th>\n",
       "      <th>TossWinner</th>\n",
       "      <th>TossDecision</th>\n",
       "      <th>SuperOver</th>\n",
       "      <th>WinningTeam</th>\n",
       "      <th>WonBy</th>\n",
       "      <th>Margin</th>\n",
       "      <th>method</th>\n",
       "      <th>Player_of_Match</th>\n",
       "      <th>Team1Players</th>\n",
       "      <th>Team2Players</th>\n",
       "      <th>Umpire1</th>\n",
       "      <th>Umpire2</th>\n",
       "    </tr>\n",
       "  </thead>\n",
       "  <tbody>\n",
       "    <tr>\n",
       "      <th>0</th>\n",
       "      <td>1312200</td>\n",
       "      <td>Ahmedabad</td>\n",
       "      <td>2022-05-29</td>\n",
       "      <td>2022</td>\n",
       "      <td>Final</td>\n",
       "      <td>Rajasthan Royals</td>\n",
       "      <td>Gujarat Titans</td>\n",
       "      <td>Narendra Modi Stadium, Ahmedabad</td>\n",
       "      <td>Rajasthan Royals</td>\n",
       "      <td>bat</td>\n",
       "      <td>N</td>\n",
       "      <td>Gujarat Titans</td>\n",
       "      <td>Wickets</td>\n",
       "      <td>7.0</td>\n",
       "      <td>NaN</td>\n",
       "      <td>HH Pandya</td>\n",
       "      <td>['YBK Jaiswal', 'JC Buttler', 'SV Samson', 'D ...</td>\n",
       "      <td>['WP Saha', 'Shubman Gill', 'MS Wade', 'HH Pan...</td>\n",
       "      <td>CB Gaffaney</td>\n",
       "      <td>Nitin Menon</td>\n",
       "    </tr>\n",
       "    <tr>\n",
       "      <th>1</th>\n",
       "      <td>1312199</td>\n",
       "      <td>Ahmedabad</td>\n",
       "      <td>2022-05-27</td>\n",
       "      <td>2022</td>\n",
       "      <td>Qualifier 2</td>\n",
       "      <td>Royal Challengers Bangalore</td>\n",
       "      <td>Rajasthan Royals</td>\n",
       "      <td>Narendra Modi Stadium, Ahmedabad</td>\n",
       "      <td>Rajasthan Royals</td>\n",
       "      <td>field</td>\n",
       "      <td>N</td>\n",
       "      <td>Rajasthan Royals</td>\n",
       "      <td>Wickets</td>\n",
       "      <td>7.0</td>\n",
       "      <td>NaN</td>\n",
       "      <td>JC Buttler</td>\n",
       "      <td>['V Kohli', 'F du Plessis', 'RM Patidar', 'GJ ...</td>\n",
       "      <td>['YBK Jaiswal', 'JC Buttler', 'SV Samson', 'D ...</td>\n",
       "      <td>CB Gaffaney</td>\n",
       "      <td>Nitin Menon</td>\n",
       "    </tr>\n",
       "    <tr>\n",
       "      <th>2</th>\n",
       "      <td>1312198</td>\n",
       "      <td>Kolkata</td>\n",
       "      <td>2022-05-25</td>\n",
       "      <td>2022</td>\n",
       "      <td>Eliminator</td>\n",
       "      <td>Royal Challengers Bangalore</td>\n",
       "      <td>Lucknow Super Giants</td>\n",
       "      <td>Eden Gardens, Kolkata</td>\n",
       "      <td>Lucknow Super Giants</td>\n",
       "      <td>field</td>\n",
       "      <td>N</td>\n",
       "      <td>Royal Challengers Bangalore</td>\n",
       "      <td>Runs</td>\n",
       "      <td>14.0</td>\n",
       "      <td>NaN</td>\n",
       "      <td>RM Patidar</td>\n",
       "      <td>['V Kohli', 'F du Plessis', 'RM Patidar', 'GJ ...</td>\n",
       "      <td>['Q de Kock', 'KL Rahul', 'M Vohra', 'DJ Hooda...</td>\n",
       "      <td>J Madanagopal</td>\n",
       "      <td>MA Gough</td>\n",
       "    </tr>\n",
       "    <tr>\n",
       "      <th>3</th>\n",
       "      <td>1312197</td>\n",
       "      <td>Kolkata</td>\n",
       "      <td>2022-05-24</td>\n",
       "      <td>2022</td>\n",
       "      <td>Qualifier 1</td>\n",
       "      <td>Rajasthan Royals</td>\n",
       "      <td>Gujarat Titans</td>\n",
       "      <td>Eden Gardens, Kolkata</td>\n",
       "      <td>Gujarat Titans</td>\n",
       "      <td>field</td>\n",
       "      <td>N</td>\n",
       "      <td>Gujarat Titans</td>\n",
       "      <td>Wickets</td>\n",
       "      <td>7.0</td>\n",
       "      <td>NaN</td>\n",
       "      <td>DA Miller</td>\n",
       "      <td>['YBK Jaiswal', 'JC Buttler', 'SV Samson', 'D ...</td>\n",
       "      <td>['WP Saha', 'Shubman Gill', 'MS Wade', 'HH Pan...</td>\n",
       "      <td>BNJ Oxenford</td>\n",
       "      <td>VK Sharma</td>\n",
       "    </tr>\n",
       "    <tr>\n",
       "      <th>4</th>\n",
       "      <td>1304116</td>\n",
       "      <td>Mumbai</td>\n",
       "      <td>2022-05-22</td>\n",
       "      <td>2022</td>\n",
       "      <td>70</td>\n",
       "      <td>Sunrisers Hyderabad</td>\n",
       "      <td>Punjab Kings</td>\n",
       "      <td>Wankhede Stadium, Mumbai</td>\n",
       "      <td>Sunrisers Hyderabad</td>\n",
       "      <td>bat</td>\n",
       "      <td>N</td>\n",
       "      <td>Punjab Kings</td>\n",
       "      <td>Wickets</td>\n",
       "      <td>5.0</td>\n",
       "      <td>NaN</td>\n",
       "      <td>Harpreet Brar</td>\n",
       "      <td>['PK Garg', 'Abhishek Sharma', 'RA Tripathi', ...</td>\n",
       "      <td>['JM Bairstow', 'S Dhawan', 'M Shahrukh Khan',...</td>\n",
       "      <td>AK Chaudhary</td>\n",
       "      <td>NA Patwardhan</td>\n",
       "    </tr>\n",
       "  </tbody>\n",
       "</table>\n",
       "</div>"
      ],
      "text/plain": [
       "        ID       City        Date Season  MatchNumber  \\\n",
       "0  1312200  Ahmedabad  2022-05-29   2022        Final   \n",
       "1  1312199  Ahmedabad  2022-05-27   2022  Qualifier 2   \n",
       "2  1312198    Kolkata  2022-05-25   2022   Eliminator   \n",
       "3  1312197    Kolkata  2022-05-24   2022  Qualifier 1   \n",
       "4  1304116     Mumbai  2022-05-22   2022           70   \n",
       "\n",
       "                         Team1                 Team2  \\\n",
       "0             Rajasthan Royals        Gujarat Titans   \n",
       "1  Royal Challengers Bangalore      Rajasthan Royals   \n",
       "2  Royal Challengers Bangalore  Lucknow Super Giants   \n",
       "3             Rajasthan Royals        Gujarat Titans   \n",
       "4          Sunrisers Hyderabad          Punjab Kings   \n",
       "\n",
       "                              Venue            TossWinner TossDecision  \\\n",
       "0  Narendra Modi Stadium, Ahmedabad      Rajasthan Royals          bat   \n",
       "1  Narendra Modi Stadium, Ahmedabad      Rajasthan Royals        field   \n",
       "2             Eden Gardens, Kolkata  Lucknow Super Giants        field   \n",
       "3             Eden Gardens, Kolkata        Gujarat Titans        field   \n",
       "4          Wankhede Stadium, Mumbai   Sunrisers Hyderabad          bat   \n",
       "\n",
       "  SuperOver                  WinningTeam    WonBy  Margin method  \\\n",
       "0         N               Gujarat Titans  Wickets     7.0    NaN   \n",
       "1         N             Rajasthan Royals  Wickets     7.0    NaN   \n",
       "2         N  Royal Challengers Bangalore     Runs    14.0    NaN   \n",
       "3         N               Gujarat Titans  Wickets     7.0    NaN   \n",
       "4         N                 Punjab Kings  Wickets     5.0    NaN   \n",
       "\n",
       "  Player_of_Match                                       Team1Players  \\\n",
       "0       HH Pandya  ['YBK Jaiswal', 'JC Buttler', 'SV Samson', 'D ...   \n",
       "1      JC Buttler  ['V Kohli', 'F du Plessis', 'RM Patidar', 'GJ ...   \n",
       "2      RM Patidar  ['V Kohli', 'F du Plessis', 'RM Patidar', 'GJ ...   \n",
       "3       DA Miller  ['YBK Jaiswal', 'JC Buttler', 'SV Samson', 'D ...   \n",
       "4   Harpreet Brar  ['PK Garg', 'Abhishek Sharma', 'RA Tripathi', ...   \n",
       "\n",
       "                                        Team2Players        Umpire1  \\\n",
       "0  ['WP Saha', 'Shubman Gill', 'MS Wade', 'HH Pan...    CB Gaffaney   \n",
       "1  ['YBK Jaiswal', 'JC Buttler', 'SV Samson', 'D ...    CB Gaffaney   \n",
       "2  ['Q de Kock', 'KL Rahul', 'M Vohra', 'DJ Hooda...  J Madanagopal   \n",
       "3  ['WP Saha', 'Shubman Gill', 'MS Wade', 'HH Pan...   BNJ Oxenford   \n",
       "4  ['JM Bairstow', 'S Dhawan', 'M Shahrukh Khan',...   AK Chaudhary   \n",
       "\n",
       "         Umpire2  \n",
       "0    Nitin Menon  \n",
       "1    Nitin Menon  \n",
       "2       MA Gough  \n",
       "3      VK Sharma  \n",
       "4  NA Patwardhan  "
      ]
     },
     "execution_count": 7,
     "metadata": {},
     "output_type": "execute_result"
    }
   ],
   "source": [
    "ipl_data.head(5)"
   ]
  },
  {
   "cell_type": "markdown",
   "id": "fc37d1ff",
   "metadata": {},
   "source": [
    "### Data Analysis "
   ]
  },
  {
   "cell_type": "code",
   "execution_count": 8,
   "id": "972a5d2f",
   "metadata": {},
   "outputs": [
    {
     "data": {
      "text/plain": [
       "array(['2022', '2021', '2020/21', '2019', '2018', '2017', '2016', '2015',\n",
       "       '2014', '2013', '2012', '2011', '2009/10', '2009', '2007/08'],\n",
       "      dtype=object)"
      ]
     },
     "execution_count": 8,
     "metadata": {},
     "output_type": "execute_result"
    }
   ],
   "source": [
    "ipl_data['Season'].unique() "
   ]
  },
  {
   "cell_type": "markdown",
   "id": "81add589",
   "metadata": {},
   "source": [
    "- The data is available from the start of the IPL ie, 2008 to 2022."
   ]
  },
  {
   "cell_type": "code",
   "execution_count": 9,
   "id": "14aea2c6",
   "metadata": {},
   "outputs": [],
   "source": [
    "Teams = ipl_data['Team1'].unique()"
   ]
  },
  {
   "cell_type": "code",
   "execution_count": 10,
   "id": "f35fac22",
   "metadata": {},
   "outputs": [],
   "source": [
    "ipl_data['WinningTeam'].replace(['Kings XI Punjab','Delhi Daredevils','Rising Pune Supergiants'],\n",
    "                                ['Punjab Kings','Delhi Capitals','Rising Pune Supergiant'],inplace=True)"
   ]
  },
  {
   "cell_type": "code",
   "execution_count": 11,
   "id": "ecf63c12",
   "metadata": {},
   "outputs": [],
   "source": [
    "ipl_data['Team1'].replace(['Kings XI Punjab','Delhi Daredevils','Rising Pune Supergiants'],\n",
    "                                ['Punjab Kings','Delhi Capitals','Rising Pune Supergiant'],inplace=True)"
   ]
  },
  {
   "cell_type": "code",
   "execution_count": 12,
   "id": "6d739b60",
   "metadata": {},
   "outputs": [],
   "source": [
    "ipl_data['Team2'].replace(['Kings XI Punjab','Delhi Daredevils','Rising Pune Supergiants'],\n",
    "                                ['Punjab Kings','Delhi Capitals','Rising Pune Supergiant'],inplace=True)"
   ]
  },
  {
   "cell_type": "markdown",
   "id": "49263bd4",
   "metadata": {},
   "source": [
    "- Just because the dataset contains both new and old names of the teams, the above code is written to replace and combine the old data with the new."
   ]
  },
  {
   "cell_type": "markdown",
   "id": "af6ea64a",
   "metadata": {},
   "source": [
    "### Matches Player and Winnings"
   ]
  },
  {
   "cell_type": "code",
   "execution_count": 13,
   "id": "063d9806",
   "metadata": {},
   "outputs": [
    {
     "data": {
      "text/plain": [
       "Chennai Super Kings            208\n",
       "Deccan Chargers                 75\n",
       "Delhi Capitals                 224\n",
       "Gujarat Lions                   30\n",
       "Gujarat Titans                  16\n",
       "Kochi Tuskers Kerala            14\n",
       "Kolkata Knight Riders          223\n",
       "Lucknow Super Giants            15\n",
       "Mumbai Indians                 231\n",
       "Pune Warriors                   46\n",
       "Punjab Kings                   218\n",
       "Rajasthan Royals               192\n",
       "Rising Pune Supergiant          30\n",
       "Royal Challengers Bangalore    226\n",
       "Sunrisers Hyderabad            152\n",
       "dtype: int64"
      ]
     },
     "execution_count": 13,
     "metadata": {},
     "output_type": "execute_result"
    }
   ],
   "source": [
    "Total_matches = ipl_data['Team1'].value_counts() + ipl_data['Team2'].value_counts()\n",
    "Total_matches"
   ]
  },
  {
   "cell_type": "markdown",
   "id": "83a68bf4",
   "metadata": {},
   "source": [
    "- To get the total matches,the count of matches played by team 1 and team 2 is added."
   ]
  },
  {
   "cell_type": "code",
   "execution_count": 14,
   "id": "1637f0e4",
   "metadata": {},
   "outputs": [
    {
     "data": {
      "text/plain": [
       "Mumbai Indians                 131\n",
       "Chennai Super Kings            121\n",
       "Kolkata Knight Riders          114\n",
       "Royal Challengers Bangalore    109\n",
       "Delhi Capitals                 103\n",
       "Punjab Kings                   101\n",
       "Rajasthan Royals                96\n",
       "Sunrisers Hyderabad             75\n",
       "Deccan Chargers                 29\n",
       "Rising Pune Supergiant          15\n",
       "Gujarat Lions                   13\n",
       "Gujarat Titans                  12\n",
       "Pune Warriors                   12\n",
       "Lucknow Super Giants             9\n",
       "Kochi Tuskers Kerala             6\n",
       "Name: WinningTeam, dtype: int64"
      ]
     },
     "execution_count": 14,
     "metadata": {},
     "output_type": "execute_result"
    }
   ],
   "source": [
    "matches_won = ipl_data['WinningTeam'].value_counts()\n",
    "matches_won"
   ]
  },
  {
   "cell_type": "code",
   "execution_count": 126,
   "id": "32d4b8f5",
   "metadata": {},
   "outputs": [
    {
     "data": {
      "image/png": "[encoded data removed]",
      "text/plain": [
       "<Figure size 864x720 with 1 Axes>"
      ]
     },
     "metadata": {
      "needs_background": "light"
     },
     "output_type": "display_data"
    }
   ],
   "source": [
    "plt.figure(figsize = (12,10))\n",
    "plt.barh(y=Total_matches.index,width=Total_matches,color='#D57224')\n",
    "plt.barh(y=matches_won.index,width = matches_won,color='#4BC0D1')\n",
    "plt.title('Total Matches vs Matches Won',fontsize=12)\n",
    "plt.ylabel('Teams')\n",
    "plt.xlabel('Matches')\n",
    "plt.legend(['Matches Played','Victory'])\n",
    "plt.show()"
   ]
  },
  {
   "cell_type": "markdown",
   "id": "6f681e9d",
   "metadata": {},
   "source": [
    "- <b>Mumbai Indians</b> being the most successful team with 5 titles has played the most matches and also won most matches compared to other teams in the IPL.\n",
    "- According to the winning ratio <b>Gujrat Titans</b> leads the way with almost 75% win ratio followed by <b>Chennai Super Kings</b> having 59%.Also it is to be considered that Gujrat Titans is a recently formed team.\n",
    "- <b>Kochi Tuskers</b> with the least matches played, the reason being they played only the 2011 season.\n",
    "- Same goes for <b>Gujrat Titans</b> and <b>Lucknow Super Gaints</b> they were formed recently."
   ]
  },
  {
   "cell_type": "markdown",
   "id": "41a725ae",
   "metadata": {},
   "source": [
    "###  Toss Decisions"
   ]
  },
  {
   "cell_type": "code",
   "execution_count": 16,
   "id": "e7f7730b",
   "metadata": {},
   "outputs": [
    {
     "data": {
      "text/html": [
       "<div>\n",
       "<style scoped>\n",
       "    .dataframe tbody tr th:only-of-type {\n",
       "        vertical-align: middle;\n",
       "    }\n",
       "\n",
       "    .dataframe tbody tr th {\n",
       "        vertical-align: top;\n",
       "    }\n",
       "\n",
       "    .dataframe thead th {\n",
       "        text-align: right;\n",
       "    }\n",
       "</style>\n",
       "<table border=\"1\" class=\"dataframe\">\n",
       "  <thead>\n",
       "    <tr style=\"text-align: right;\">\n",
       "      <th></th>\n",
       "      <th>index</th>\n",
       "      <th>TossDecision</th>\n",
       "    </tr>\n",
       "  </thead>\n",
       "  <tbody>\n",
       "    <tr>\n",
       "      <th>0</th>\n",
       "      <td>field</td>\n",
       "      <td>599</td>\n",
       "    </tr>\n",
       "    <tr>\n",
       "      <th>1</th>\n",
       "      <td>bat</td>\n",
       "      <td>351</td>\n",
       "    </tr>\n",
       "  </tbody>\n",
       "</table>\n",
       "</div>"
      ],
      "text/plain": [
       "   index  TossDecision\n",
       "0  field           599\n",
       "1    bat           351"
      ]
     },
     "execution_count": 16,
     "metadata": {},
     "output_type": "execute_result"
    }
   ],
   "source": [
    "Toss = ipl_data['TossDecision'].value_counts()\n",
    "Toss.reset_index()"
   ]
  },
  {
   "cell_type": "code",
   "execution_count": 120,
   "id": "43712dce",
   "metadata": {},
   "outputs": [
    {
     "data": {
      "image/png": "[encoded data removed]",
      "text/plain": [
       "<Figure size 432x432 with 1 Axes>"
      ]
     },
     "metadata": {},
     "output_type": "display_data"
    }
   ],
   "source": [
    "plt.figure(figsize=(6,6))\n",
    "plt.pie(Toss,shadow = True,autopct='%1.1f%%',colors=['#8ED330','#D35317'])\n",
    "plt.title('Toss Decisions',fontsize=15)\n",
    "plt.legend(Toss.index,loc='upper right')\n",
    "plt.show()"
   ]
  },
  {
   "cell_type": "markdown",
   "id": "bdbcc253",
   "metadata": {},
   "source": [
    "- Most of the winning toss decisions lead to field first and rarely Bat first is seen."
   ]
  },
  {
   "cell_type": "markdown",
   "id": "ba568516",
   "metadata": {},
   "source": [
    "### Wickets Taken Criteria"
   ]
  },
  {
   "cell_type": "code",
   "execution_count": 36,
   "id": "c1713274",
   "metadata": {},
   "outputs": [],
   "source": [
    "ipl_ball_data['kind'].fillna(0,inplace = True) #filling all nan values with 0"
   ]
  },
  {
   "cell_type": "code",
   "execution_count": 37,
   "id": "8242d036",
   "metadata": {},
   "outputs": [
    {
     "data": {
      "text/plain": [
       "caught                   6837\n",
       "bowled                   1944\n",
       "run out                  1007\n",
       "lbw                       685\n",
       "stumped                   325\n",
       "caught and bowled         323\n",
       "hit wicket                 14\n",
       "retired hurt               13\n",
       "obstructing the field       2\n",
       "retired out                 1\n",
       "Name: kind, dtype: int64"
      ]
     },
     "execution_count": 37,
     "metadata": {},
     "output_type": "execute_result"
    }
   ],
   "source": [
    "out_type = ipl_ball_data[ipl_ball_data['kind']!=0]['kind'].value_counts() #omitting the 0 value to get the accuarate result\n",
    "out_type"
   ]
  },
  {
   "cell_type": "code",
   "execution_count": 123,
   "id": "22abe510",
   "metadata": {},
   "outputs": [
    {
     "data": {
      "image/png": "[encoded data removed]",
      "text/plain": [
       "<Figure size 504x504 with 1 Axes>"
      ]
     },
     "metadata": {},
     "output_type": "display_data"
    }
   ],
   "source": [
    "plt.figure(figsize=(7,7))\n",
    "plt.pie(out_type,shadow = True,autopct='%1.1f%%')\n",
    "plt.title('Wickets Taken By',fontsize=15)\n",
    "plt.legend(out_type.index,loc = 'upper right')\n",
    "plt.show()"
   ]
  },
  {
   "cell_type": "markdown",
   "id": "47a3cc6f",
   "metadata": {},
   "source": [
    "- Around 61% wickets were catch out or caught by the fielder,followed by bowled.\n",
    "- Most rare is retired hurt and obstructing the field"
   ]
  },
  {
   "cell_type": "markdown",
   "id": "3fe26ec0",
   "metadata": {},
   "source": [
    "### Matches Winning criteria"
   ]
  },
  {
   "cell_type": "code",
   "execution_count": 40,
   "id": "57b96b60",
   "metadata": {},
   "outputs": [
    {
     "data": {
      "text/plain": [
       "Wickets      509\n",
       "Runs         423\n",
       "SuperOver     14\n",
       "NoResults      4\n",
       "Name: WonBy, dtype: int64"
      ]
     },
     "execution_count": 40,
     "metadata": {},
     "output_type": "execute_result"
    }
   ],
   "source": [
    "won_by = ipl_data['WonBy'].value_counts()\n",
    "won_by"
   ]
  },
  {
   "cell_type": "code",
   "execution_count": 122,
   "id": "75adcad7",
   "metadata": {},
   "outputs": [
    {
     "data": {
      "image/png": "[encoded data removed]",
      "text/plain": [
       "<Figure size 432x432 with 1 Axes>"
      ]
     },
     "metadata": {},
     "output_type": "display_data"
    }
   ],
   "source": [
    "plt.figure(figsize=(6,6))\n",
    "plt.pie(won_by,shadow = True,autopct='%1.1f%%',colors=['#3ED8CC','#A443C2','#C72F87','#EAD856'])\n",
    "plt.title('Winning Criteria',fontsize=15)\n",
    "plt.legend(won_by.index)\n",
    "plt.show()"
   ]
  },
  {
   "cell_type": "markdown",
   "id": "6baa9e0e",
   "metadata": {},
   "source": [
    "- More than 50% of the matches were won by Wickets, almost 45% with Runs and only 1.47% which lead to victory by Super Over. "
   ]
  },
  {
   "cell_type": "markdown",
   "id": "35a19ae0",
   "metadata": {},
   "source": [
    "### Popular Venue/Staduim"
   ]
  },
  {
   "cell_type": "code",
   "execution_count": 42,
   "id": "5c1da603",
   "metadata": {},
   "outputs": [
    {
     "data": {
      "text/plain": [
       "Eden Gardens                                  77\n",
       "Wankhede Stadium                              73\n",
       "M Chinnaswamy Stadium                         65\n",
       "Feroz Shah Kotla                              60\n",
       "Rajiv Gandhi International Stadium, Uppal     49\n",
       "MA Chidambaram Stadium, Chepauk               48\n",
       "Sawai Mansingh Stadium                        47\n",
       "Dubai International Cricket Stadium           46\n",
       "Punjab Cricket Association Stadium, Mohali    35\n",
       "Wankhede Stadium, Mumbai                      31\n",
       "Name: Venue, dtype: int64"
      ]
     },
     "execution_count": 42,
     "metadata": {},
     "output_type": "execute_result"
    }
   ],
   "source": [
    "venue = ipl_data['Venue'].value_counts()[:10] # to get top 10 venues with most played matches\n",
    "venue"
   ]
  },
  {
   "cell_type": "code",
   "execution_count": 128,
   "id": "da437393",
   "metadata": {},
   "outputs": [
    {
     "data": {
      "image/png": "[encoded data removed]",
      "text/plain": [
       "<Figure size 1152x864 with 1 Axes>"
      ]
     },
     "metadata": {
      "needs_background": "light"
     },
     "output_type": "display_data"
    }
   ],
   "source": [
    "plt.figure(figsize=(16,12))\n",
    "plt.barh(y = venue.index,width = venue.values,color='#734462')\n",
    "plt.xlabel('Matches Played',fontsize=12)\n",
    "plt.ylabel('Stadium/Venue',fontsize=12)\n",
    "plt.title('Most Popular Stadiums/Venue',fontsize = 15)\n",
    "plt.show()"
   ]
  },
  {
   "cell_type": "markdown",
   "id": "24cd4aaa",
   "metadata": {},
   "source": [
    "- <b>Eden Gardens</b> being the second largest cricket ground in India is the most popular Stadium in which most IPL matches were played.With a seating capacity of over <b>66,000 spectators</b>, Eden Gardens has witnessed numerous iconic moments in Indian cricket. "
   ]
  },
  {
   "cell_type": "markdown",
   "id": "3272d551",
   "metadata": {},
   "source": [
    "### Most Overs Bowled"
   ]
  },
  {
   "cell_type": "code",
   "execution_count": 44,
   "id": "8aeb2ead",
   "metadata": {},
   "outputs": [
    {
     "data": {
      "text/plain": [
       "R Ashwin           647\n",
       "SP Narine          576\n",
       "Harbhajan Singh    569\n",
       "PP Chawla          542\n",
       "B Kumar            539\n",
       "A Mishra           539\n",
       "RA Jadeja          530\n",
       "DJ Bravo           514\n",
       "YS Chahal          474\n",
       "UT Yadav           468\n",
       "Name: bowler, dtype: int64"
      ]
     },
     "execution_count": 44,
     "metadata": {},
     "output_type": "execute_result"
    }
   ],
   "source": [
    "Most_overs = ipl_ball_data[ipl_ball_data['ballnumber'] == 6]['bowler'].value_counts()[:10]# slicing to get the top 10 bowlers\n",
    "Most_overs"
   ]
  },
  {
   "cell_type": "code",
   "execution_count": 130,
   "id": "e25994fa",
   "metadata": {},
   "outputs": [
    {
     "data": {
      "image/png": "[encoded data removed]",
      "text/plain": [
       "<Figure size 864x720 with 1 Axes>"
      ]
     },
     "metadata": {
      "needs_background": "light"
     },
     "output_type": "display_data"
    }
   ],
   "source": [
    "plt.figure(figsize=(12,10))\n",
    "sns.barplot(x=Most_overs.index,y=Most_overs.values,palette='muted')\n",
    "plt.title('Most Over Bowled By A Player',fontsize=15)\n",
    "plt.xlabel('Bowlers')\n",
    "plt.xticks(rotation=45)\n",
    "plt.ylabel('Overs')\n",
    "plt.show()"
   ]
  },
  {
   "cell_type": "markdown",
   "id": "ca8645aa",
   "metadata": {},
   "source": [
    "- <b>R Ashwin</b> leads the way with almost 647 overs bowled followed by <b>Sunil Narine</b> an highly skilled off-spinner, captivating audiences with his unorthodox and unpredictable style of bowling."
   ]
  },
  {
   "cell_type": "markdown",
   "id": "3ce5d309",
   "metadata": {},
   "source": [
    "### Bowler With Most Wickets Throughout The History Of IPL"
   ]
  },
  {
   "cell_type": "code",
   "execution_count": 88,
   "id": "951968ab",
   "metadata": {},
   "outputs": [
    {
     "data": {
      "text/html": [
       "<div>\n",
       "<style scoped>\n",
       "    .dataframe tbody tr th:only-of-type {\n",
       "        vertical-align: middle;\n",
       "    }\n",
       "\n",
       "    .dataframe tbody tr th {\n",
       "        vertical-align: top;\n",
       "    }\n",
       "\n",
       "    .dataframe thead th {\n",
       "        text-align: right;\n",
       "    }\n",
       "</style>\n",
       "<table border=\"1\" class=\"dataframe\">\n",
       "  <thead>\n",
       "    <tr style=\"text-align: right;\">\n",
       "      <th></th>\n",
       "      <th>bowler</th>\n",
       "      <th>ID</th>\n",
       "      <th>innings</th>\n",
       "      <th>overs</th>\n",
       "      <th>ballnumber</th>\n",
       "      <th>batsman_run</th>\n",
       "      <th>extras_run</th>\n",
       "      <th>total_run</th>\n",
       "      <th>non_boundary</th>\n",
       "      <th>isWicketDelivery</th>\n",
       "    </tr>\n",
       "  </thead>\n",
       "  <tbody>\n",
       "    <tr>\n",
       "      <th>109</th>\n",
       "      <td>DJ Bravo</td>\n",
       "      <td>2734077390</td>\n",
       "      <td>4844</td>\n",
       "      <td>41842</td>\n",
       "      <td>12030</td>\n",
       "      <td>4169</td>\n",
       "      <td>257</td>\n",
       "      <td>4426</td>\n",
       "      <td>1</td>\n",
       "      <td>183</td>\n",
       "    </tr>\n",
       "    <tr>\n",
       "      <th>393</th>\n",
       "      <td>SL Malinga</td>\n",
       "      <td>2010509143</td>\n",
       "      <td>4494</td>\n",
       "      <td>29589</td>\n",
       "      <td>10829</td>\n",
       "      <td>3187</td>\n",
       "      <td>290</td>\n",
       "      <td>3477</td>\n",
       "      <td>0</td>\n",
       "      <td>170</td>\n",
       "    </tr>\n",
       "    <tr>\n",
       "      <th>468</th>\n",
       "      <td>YS Chahal</td>\n",
       "      <td>3189009699</td>\n",
       "      <td>4590</td>\n",
       "      <td>28972</td>\n",
       "      <td>10556</td>\n",
       "      <td>3524</td>\n",
       "      <td>175</td>\n",
       "      <td>3699</td>\n",
       "      <td>0</td>\n",
       "      <td>166</td>\n",
       "    </tr>\n",
       "    <tr>\n",
       "      <th>7</th>\n",
       "      <td>A Mishra</td>\n",
       "      <td>2454638067</td>\n",
       "      <td>5101</td>\n",
       "      <td>34445</td>\n",
       "      <td>11827</td>\n",
       "      <td>3895</td>\n",
       "      <td>125</td>\n",
       "      <td>4020</td>\n",
       "      <td>1</td>\n",
       "      <td>166</td>\n",
       "    </tr>\n",
       "    <tr>\n",
       "      <th>317</th>\n",
       "      <td>R Ashwin</td>\n",
       "      <td>3530204343</td>\n",
       "      <td>6300</td>\n",
       "      <td>35179</td>\n",
       "      <td>14461</td>\n",
       "      <td>4380</td>\n",
       "      <td>209</td>\n",
       "      <td>4589</td>\n",
       "      <td>0</td>\n",
       "      <td>157</td>\n",
       "    </tr>\n",
       "    <tr>\n",
       "      <th>310</th>\n",
       "      <td>PP Chawla</td>\n",
       "      <td>2379902006</td>\n",
       "      <td>4749</td>\n",
       "      <td>33214</td>\n",
       "      <td>11650</td>\n",
       "      <td>4231</td>\n",
       "      <td>134</td>\n",
       "      <td>4365</td>\n",
       "      <td>0</td>\n",
       "      <td>157</td>\n",
       "    </tr>\n",
       "    <tr>\n",
       "      <th>63</th>\n",
       "      <td>B Kumar</td>\n",
       "      <td>3252481791</td>\n",
       "      <td>4992</td>\n",
       "      <td>27744</td>\n",
       "      <td>12212</td>\n",
       "      <td>3816</td>\n",
       "      <td>246</td>\n",
       "      <td>4062</td>\n",
       "      <td>1</td>\n",
       "      <td>154</td>\n",
       "    </tr>\n",
       "    <tr>\n",
       "      <th>401</th>\n",
       "      <td>SP Narine</td>\n",
       "      <td>3410107902</td>\n",
       "      <td>4912</td>\n",
       "      <td>36553</td>\n",
       "      <td>12399</td>\n",
       "      <td>3747</td>\n",
       "      <td>152</td>\n",
       "      <td>3899</td>\n",
       "      <td>0</td>\n",
       "      <td>152</td>\n",
       "    </tr>\n",
       "    <tr>\n",
       "      <th>149</th>\n",
       "      <td>Harbhajan Singh</td>\n",
       "      <td>2554676135</td>\n",
       "      <td>5246</td>\n",
       "      <td>29463</td>\n",
       "      <td>12478</td>\n",
       "      <td>3925</td>\n",
       "      <td>173</td>\n",
       "      <td>4098</td>\n",
       "      <td>0</td>\n",
       "      <td>150</td>\n",
       "    </tr>\n",
       "    <tr>\n",
       "      <th>177</th>\n",
       "      <td>JJ Bumrah</td>\n",
       "      <td>3152455690</td>\n",
       "      <td>4312</td>\n",
       "      <td>30629</td>\n",
       "      <td>10269</td>\n",
       "      <td>3294</td>\n",
       "      <td>201</td>\n",
       "      <td>3495</td>\n",
       "      <td>0</td>\n",
       "      <td>148</td>\n",
       "    </tr>\n",
       "  </tbody>\n",
       "</table>\n",
       "</div>"
      ],
      "text/plain": [
       "              bowler          ID  innings  overs  ballnumber  batsman_run  \\\n",
       "109         DJ Bravo  2734077390     4844  41842       12030         4169   \n",
       "393       SL Malinga  2010509143     4494  29589       10829         3187   \n",
       "468        YS Chahal  3189009699     4590  28972       10556         3524   \n",
       "7           A Mishra  2454638067     5101  34445       11827         3895   \n",
       "317         R Ashwin  3530204343     6300  35179       14461         4380   \n",
       "310        PP Chawla  2379902006     4749  33214       11650         4231   \n",
       "63           B Kumar  3252481791     4992  27744       12212         3816   \n",
       "401        SP Narine  3410107902     4912  36553       12399         3747   \n",
       "149  Harbhajan Singh  2554676135     5246  29463       12478         3925   \n",
       "177        JJ Bumrah  3152455690     4312  30629       10269         3294   \n",
       "\n",
       "     extras_run  total_run  non_boundary  isWicketDelivery  \n",
       "109         257       4426             1               183  \n",
       "393         290       3477             0               170  \n",
       "468         175       3699             0               166  \n",
       "7           125       4020             1               166  \n",
       "317         209       4589             0               157  \n",
       "310         134       4365             0               157  \n",
       "63          246       4062             1               154  \n",
       "401         152       3899             0               152  \n",
       "149         173       4098             0               150  \n",
       "177         201       3495             0               148  "
      ]
     },
     "execution_count": 88,
     "metadata": {},
     "output_type": "execute_result"
    }
   ],
   "source": [
    "wickets = ipl_ball_data[(ipl_ball_data['kind']!='run out')&(ipl_ball_data['kind']!='retired hurt')\n",
    "                 &(ipl_ball_data['kind']!='obstructing the field')].groupby('bowler').sum()\n",
    "wickets.reset_index(inplace=True)\n",
    "wickets = wickets.sort_values('isWicketDelivery',ascending = False).head(10)\n",
    "wickets"
   ]
  },
  {
   "cell_type": "markdown",
   "id": "692accda",
   "metadata": {},
   "source": [
    "- To get the most wickets taken by the bowler elimination of columns is done ie, only Wicket Delivery is taken others are omitted"
   ]
  },
  {
   "cell_type": "code",
   "execution_count": 134,
   "id": "78413d31",
   "metadata": {},
   "outputs": [
    {
     "data": {
      "image/png": "[encoded data removed]",
      "text/plain": [
       "<Figure size 864x720 with 1 Axes>"
      ]
     },
     "metadata": {
      "needs_background": "light"
     },
     "output_type": "display_data"
    }
   ],
   "source": [
    "plt.figure(figsize=(12,10))\n",
    "sns.barplot(x=wickets.bowler,y=wickets.isWicketDelivery,palette='hls')\n",
    "plt.title('Most Wickets By A Bowler',fontsize=15)\n",
    "plt.xlabel('Bowlers')\n",
    "plt.xticks(rotation=45)\n",
    "plt.ylabel('Wickets')\n",
    "plt.show()"
   ]
  },
  {
   "cell_type": "markdown",
   "id": "32cfecab",
   "metadata": {},
   "source": [
    "- <b>DJ Bravo</b>, a true embodiment of versatility and skill, has firmly established himself as a force to be reckoned with in the Indian Premier League (IPL) with 183 wickets delivery.Following closely behind are the phenomenal <b>Lasith Malinga</b> from Sri Lanka and the talented <b>Yuzvendra Chahal</b>, both of whom have left an indelible mark with their bowling prowess."
   ]
  },
  {
   "cell_type": "markdown",
   "id": "32544f85",
   "metadata": {},
   "source": [
    "### Batsman With Most Runs Scored"
   ]
  },
  {
   "cell_type": "code",
   "execution_count": 96,
   "id": "56183b58",
   "metadata": {},
   "outputs": [
    {
     "data": {
      "text/html": [
       "<div>\n",
       "<style scoped>\n",
       "    .dataframe tbody tr th:only-of-type {\n",
       "        vertical-align: middle;\n",
       "    }\n",
       "\n",
       "    .dataframe tbody tr th {\n",
       "        vertical-align: top;\n",
       "    }\n",
       "\n",
       "    .dataframe thead th {\n",
       "        text-align: right;\n",
       "    }\n",
       "</style>\n",
       "<table border=\"1\" class=\"dataframe\">\n",
       "  <thead>\n",
       "    <tr style=\"text-align: right;\">\n",
       "      <th></th>\n",
       "      <th>batter</th>\n",
       "      <th>batsman_run</th>\n",
       "    </tr>\n",
       "  </thead>\n",
       "  <tbody>\n",
       "    <tr>\n",
       "      <th>569</th>\n",
       "      <td>V Kohli</td>\n",
       "      <td>6634</td>\n",
       "    </tr>\n",
       "    <tr>\n",
       "      <th>462</th>\n",
       "      <td>S Dhawan</td>\n",
       "      <td>6244</td>\n",
       "    </tr>\n",
       "    <tr>\n",
       "      <th>130</th>\n",
       "      <td>DA Warner</td>\n",
       "      <td>5883</td>\n",
       "    </tr>\n",
       "    <tr>\n",
       "      <th>430</th>\n",
       "      <td>RG Sharma</td>\n",
       "      <td>5881</td>\n",
       "    </tr>\n",
       "    <tr>\n",
       "      <th>493</th>\n",
       "      <td>SK Raina</td>\n",
       "      <td>5536</td>\n",
       "    </tr>\n",
       "    <tr>\n",
       "      <th>27</th>\n",
       "      <td>AB de Villiers</td>\n",
       "      <td>5181</td>\n",
       "    </tr>\n",
       "    <tr>\n",
       "      <th>108</th>\n",
       "      <td>CH Gayle</td>\n",
       "      <td>4997</td>\n",
       "    </tr>\n",
       "    <tr>\n",
       "      <th>339</th>\n",
       "      <td>MS Dhoni</td>\n",
       "      <td>4978</td>\n",
       "    </tr>\n",
       "    <tr>\n",
       "      <th>452</th>\n",
       "      <td>RV Uthappa</td>\n",
       "      <td>4954</td>\n",
       "    </tr>\n",
       "    <tr>\n",
       "      <th>256</th>\n",
       "      <td>KD Karthik</td>\n",
       "      <td>4377</td>\n",
       "    </tr>\n",
       "  </tbody>\n",
       "</table>\n",
       "</div>"
      ],
      "text/plain": [
       "             batter  batsman_run\n",
       "569         V Kohli         6634\n",
       "462        S Dhawan         6244\n",
       "130       DA Warner         5883\n",
       "430       RG Sharma         5881\n",
       "493        SK Raina         5536\n",
       "27   AB de Villiers         5181\n",
       "108        CH Gayle         4997\n",
       "339        MS Dhoni         4978\n",
       "452      RV Uthappa         4954\n",
       "256      KD Karthik         4377"
      ]
     },
     "execution_count": 96,
     "metadata": {},
     "output_type": "execute_result"
    }
   ],
   "source": [
    "runs = ipl_ball_data.groupby(['batter'])[['batsman_run']].sum() #getting all batter with there sum of runs\n",
    "runs.reset_index(inplace=True)\n",
    "runs = runs.sort_values(by='batsman_run',ascending=False).head(10)\n",
    "runs"
   ]
  },
  {
   "cell_type": "code",
   "execution_count": 132,
   "id": "fa4299f4",
   "metadata": {
    "scrolled": false
   },
   "outputs": [
    {
     "data": {
      "image/png": "[encoded data removed]",
      "text/plain": [
       "<Figure size 864x720 with 1 Axes>"
      ]
     },
     "metadata": {
      "needs_background": "light"
     },
     "output_type": "display_data"
    }
   ],
   "source": [
    "plt.figure(figsize=(12,10))\n",
    "sns.barplot(x=runs.batter,y=runs.batsman_run,palette='colorblind')\n",
    "plt.title('Batsman With Most Runs Scored',fontsize=15)\n",
    "plt.xlabel('Batsman')\n",
    "plt.xticks(rotation=45)\n",
    "plt.ylabel('Runs')\n",
    "plt.show()"
   ]
  },
  {
   "cell_type": "markdown",
   "id": "c120b462",
   "metadata": {},
   "source": [
    "- <b>Virat Kohli</b>, whose insatiable hunger for runs has propelled him to the summit of the IPL's all-time run-scoring charts. Following closely are the formidable <b>Shikhar Dhawan</b> and the dynamic <b>David Warner</b>, two exceptional batsmen who have left an indelible mark on the tournament with their run-scoring prowess."
   ]
  },
  {
   "cell_type": "markdown",
   "id": "6b6f648c",
   "metadata": {},
   "source": [
    "### Most Boundaries And Sixes "
   ]
  },
  {
   "cell_type": "code",
   "execution_count": 61,
   "id": "467ba930",
   "metadata": {},
   "outputs": [
    {
     "data": {
      "text/plain": [
       "S Dhawan          838\n",
       "V Kohli           800\n",
       "DA Warner         793\n",
       "CH Gayle          767\n",
       "RG Sharma         760\n",
       "SK Raina          710\n",
       "AB de Villiers    667\n",
       "RV Uthappa        663\n",
       "MS Dhoni          575\n",
       "SR Watson         567\n",
       "Name: batter, dtype: int64"
      ]
     },
     "execution_count": 61,
     "metadata": {},
     "output_type": "execute_result"
    }
   ],
   "source": [
    "Boundary = ipl_ball_data[(ipl_ball_data['batsman_run'] == 6)|(ipl_ball_data['batsman_run'] == 4)]['batter'].value_counts()[:10]\n",
    "Boundary"
   ]
  },
  {
   "cell_type": "code",
   "execution_count": 62,
   "id": "021406d9",
   "metadata": {},
   "outputs": [
    {
     "data": {
      "text/plain": [
       "CH Gayle          359\n",
       "AB de Villiers    253\n",
       "RG Sharma         241\n",
       "MS Dhoni          229\n",
       "KA Pollard        224\n",
       "V Kohli           219\n",
       "DA Warner         216\n",
       "SK Raina          204\n",
       "SR Watson         190\n",
       "RV Uthappa        182\n",
       "Name: batter, dtype: int64"
      ]
     },
     "execution_count": 62,
     "metadata": {},
     "output_type": "execute_result"
    }
   ],
   "source": [
    "sixes=ipl_ball_data[ipl_ball_data['batsman_run'] == 6]['batter'].value_counts()[:10] #Slicing to get only top 10 players\n",
    "sixes"
   ]
  },
  {
   "cell_type": "code",
   "execution_count": 66,
   "id": "086939a4",
   "metadata": {},
   "outputs": [
    {
     "data": {
      "image/png": "[encoded data removed]",
      "text/plain": [
       "<Figure size 864x432 with 2 Axes>"
      ]
     },
     "metadata": {
      "needs_background": "light"
     },
     "output_type": "display_data"
    }
   ],
   "source": [
    "fig, ax = plt.subplots(nrows=1, ncols=2, figsize=(12,6))\n",
    "sns.barplot(x=Boundary.index,y=Boundary.values,ax=ax[0],palette='rocket') #Subplots is used to display two graphs\n",
    "ax[0].set_title('Boundary')\n",
    "ax[0].tick_params(axis='x',rotation=90)\n",
    "sns.barplot(x=sixes.index,y=sixes.values,ax=ax[1],palette='crest')\n",
    "ax[1].set_title('Sixes')\n",
    "ax[1].tick_params(axis='x',rotation=90)\n",
    "plt.show()"
   ]
  },
  {
   "cell_type": "markdown",
   "id": "fe8a77f6",
   "metadata": {},
   "source": [
    "- <b>Shikhar Dhawan</b>, a renowned cricketer known for his graceful stroke play, holds the distinction of hitting the most boundaries, while the explosive <b>Chris Gayle</b> stands tall as the player with the most sixes in the history of IPL."
   ]
  },
  {
   "cell_type": "markdown",
   "id": "7a8d8601",
   "metadata": {},
   "source": [
    "### Players With The Most 'Player Of The Match' Titles"
   ]
  },
  {
   "cell_type": "code",
   "execution_count": 58,
   "id": "94342c47",
   "metadata": {},
   "outputs": [
    {
     "data": {
      "text/plain": [
       "AB de Villiers    25\n",
       "CH Gayle          22\n",
       "DA Warner         18\n",
       "RG Sharma         18\n",
       "MS Dhoni          17\n",
       "YK Pathan         16\n",
       "SR Watson         16\n",
       "KA Pollard        14\n",
       "SK Raina          14\n",
       "V Kohli           14\n",
       "Name: Player_of_Match, dtype: int64"
      ]
     },
     "execution_count": 58,
     "metadata": {},
     "output_type": "execute_result"
    }
   ],
   "source": [
    "top_player = ipl_data['Player_of_Match'].value_counts()[:10]\n",
    "top_player"
   ]
  },
  {
   "cell_type": "code",
   "execution_count": 135,
   "id": "32f6f579",
   "metadata": {},
   "outputs": [
    {
     "data": {
      "image/png": "[encoded data removed]",
      "text/plain": [
       "<Figure size 864x720 with 1 Axes>"
      ]
     },
     "metadata": {
      "needs_background": "light"
     },
     "output_type": "display_data"
    }
   ],
   "source": [
    "plt.figure(figsize=(12,10))\n",
    "sns.barplot(x=top_player.index,y=top_player.values,palette='viridis')\n",
    "plt.title('Most Player of Won Titles Earned',fontsize=15)\n",
    "plt.xlabel('Players')\n",
    "plt.xticks(rotation=45)\n",
    "plt.ylabel('Titles')\n",
    "plt.show()"
   ]
  },
  {
   "cell_type": "markdown",
   "id": "8020aa87",
   "metadata": {},
   "source": [
    "- <b>AB de Villiers</b>' sheer dominance and impact have culminated in an unparalleled tally of <b>25 Player of the Match titles</b>, a testament to his unmatched consistency and match-winning prowess.\n",
    "- Not far behind, the enigmatic <b>Chris Gayle</b> has established himself as a force to be reckoned with in the realm of cricket. His powerful stroke play, unrelenting aggression, and sheer flair have captivated audiences worldwide.His commendable record of <b>22 Player of the Match titles</b> speaks volumes about his incredible talent and unwavering impact on the game."
   ]
  }
 ],
 "metadata": {
  "kernelspec": {
   "display_name": "Python 3 (ipykernel)",
   "language": "python",
   "name": "python3"
  },
  "language_info": {
   "codemirror_mode": {
    "name": "ipython",
    "version": 3
   },
   "file_extension": ".py",
   "mimetype": "text/x-python",
   "name": "python",
   "nbconvert_exporter": "python",
   "pygments_lexer": "ipython3",
   "version": "3.9.12"
  }
 },
 "nbformat": 4,
 "nbformat_minor": 5
}
